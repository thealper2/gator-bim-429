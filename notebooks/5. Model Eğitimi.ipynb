{
 "cells": [
  {
   "cell_type": "code",
   "execution_count": null,
   "id": "q-IgDCpO5DSc",
   "metadata": {
    "colab": {
     "base_uri": "https://localhost:8080/"
    },
    "id": "q-IgDCpO5DSc",
    "outputId": "ac64fe0c-a643-4a3e-99b0-451c4ad9a74c"
   },
   "outputs": [],
   "source": [
    "!pip install -q scikit-plot catboost optuna scikit-learn-intelex"
   ]
  },
  {
   "cell_type": "code",
   "execution_count": null,
   "id": "xGJmuDM-5Fyy",
   "metadata": {
    "colab": {
     "base_uri": "https://localhost:8080/"
    },
    "id": "xGJmuDM-5Fyy",
    "outputId": "5e1f1e0c-d281-49b3-c155-604b82c3e437"
   },
   "outputs": [],
   "source": [
    "from google.colab import drive\n",
    "drive.mount('/content/drive')"
   ]
  },
  {
   "cell_type": "markdown",
   "id": "52d2b6a8-a333-4f5e-acaa-d3450941bdbe",
   "metadata": {
    "id": "52d2b6a8-a333-4f5e-acaa-d3450941bdbe"
   },
   "source": [
    "# Gerekli Kütüphaneler"
   ]
  },
  {
   "cell_type": "code",
   "execution_count": null,
   "id": "e4260af1-6d55-4417-aeb5-35781b1dbe23",
   "metadata": {
    "colab": {
     "base_uri": "https://localhost:8080/"
    },
    "id": "e4260af1-6d55-4417-aeb5-35781b1dbe23",
    "outputId": "1aae056c-aa8a-4728-eb7b-a9f0d64c74ef"
   },
   "outputs": [],
   "source": [
    "import numpy as np\n",
    "import pandas as pd\n",
    "import io\n",
    "import pickle\n",
    "import os\n",
    "import time\n",
    "from collections import Counter\n",
    "from tqdm import tqdm\n",
    "\n",
    "import logging\n",
    "\n",
    "pd.options.mode.chained_assignment = None\n",
    "\n",
    "np.random.seed(42)\n",
    "pd.set_option(\"display.max_colwidth\", None)\n",
    "pd.set_option(\"display.float_format\", lambda x: \"%.2f\" % x)\n",
    "\n",
    "import seaborn as sns\n",
    "import matplotlib.pyplot as plt\n",
    "from mlxtend.plotting import plot_confusion_matrix\n",
    "from scikitplot.plotters import plot_feature_importances\n",
    "\n",
    "sns.set_style(\"whitegrid\")\n",
    "\n",
    "from sklearn.ensemble import RandomForestClassifier, AdaBoostClassifier, GradientBoostingClassifier, ExtraTreesClassifier\n",
    "from sklearn.svm import SVC\n",
    "from sklearn.tree import DecisionTreeClassifier\n",
    "from sklearn.linear_model import LogisticRegression, SGDClassifier\n",
    "from xgboost import XGBClassifier\n",
    "from lightgbm import LGBMClassifier\n",
    "from catboost import CatBoostClassifier\n",
    "from sklearn.neural_network import MLPClassifier\n",
    "from sklearn.naive_bayes import GaussianNB\n",
    "from sklearn.neighbors import KNeighborsClassifier\n",
    "\n",
    "import optuna\n",
    "from sklearn.base import clone\n",
    "from sklearn.preprocessing import RobustScaler, OrdinalEncoder, LabelEncoder, label_binarize\n",
    "from sklearn.model_selection import RandomizedSearchCV\n",
    "from sklearn.metrics import accuracy_score, classification_report, confusion_matrix\n",
    "from sklearn.metrics import f1_score, precision_score, recall_score\n",
    "\n",
    "from sklearn.feature_selection import f_classif\n",
    "from sklearn.feature_selection import mutual_info_classif\n",
    "from sklearn.feature_selection import SelectKBest\n",
    "from sklearn.model_selection import train_test_split, StratifiedShuffleSplit\n",
    "from imblearn.over_sampling import RandomOverSampler, SMOTE, ADASYN, BorderlineSMOTE\n",
    "\n",
    "from sklearn.metrics import brier_score_loss\n",
    "from sklearn.calibration import CalibratedClassifierCV, calibration_curve\n",
    "\n",
    "from sklearnex import patch_sklearn\n",
    "patch_sklearn()\n",
    "\n",
    "from IPython.display import Markdown\n",
    "\n",
    "def bold(string):\n",
    "    display(Markdown(\"**\" + string + \"**\"))\n",
    "\n",
    "PROJECT_ROOT_DIR = '/content/drive/MyDrive/proje'\n",
    "IMAGES_PATH = os.path.join(PROJECT_ROOT_DIR, 'images')\n",
    "def save_fig(title, year):\n",
    "    path = os.path.join(IMAGES_PATH, str(year), title + '.png')\n",
    "    plt.tight_layout()\n",
    "    plt.savefig(path, format='png', dpi=300)\n",
    "\n",
    "import warnings\n",
    "from sklearn.exceptions import ConvergenceWarning\n",
    "warnings.filterwarnings(\"ignore\", category=UserWarning)\n",
    "warnings.filterwarnings(\"ignore\", category=FutureWarning)\n",
    "warnings.filterwarnings(\"ignore\", category=ConvergenceWarning)\n",
    "warnings.filterwarnings(\"ignore\", category=RuntimeWarning)"
   ]
  },
  {
   "cell_type": "markdown",
   "id": "2b11359c-46d5-4e04-839c-b8e619959cfc",
   "metadata": {
    "id": "2b11359c-46d5-4e04-839c-b8e619959cfc"
   },
   "source": [
    "# Veriyi yükleyelim"
   ]
  },
  {
   "cell_type": "code",
   "execution_count": null,
   "id": "735892f6-ab2a-4ab5-9f12-32e934f465dc",
   "metadata": {
    "colab": {
     "base_uri": "https://localhost:8080/",
     "height": 340
    },
    "id": "735892f6-ab2a-4ab5-9f12-32e934f465dc",
    "outputId": "d2606729-90d5-49bd-8682-79d59d1a4325"
   },
   "outputs": [],
   "source": [
    "data = pd.read_csv('/content/drive/MyDrive/proje/data/processed.csv', index_col=0)\n",
    "logging.info('Veri seti yüklendi.')\n",
    "df = data.copy()\n",
    "df.head()"
   ]
  },
  {
   "cell_type": "code",
   "execution_count": null,
   "id": "47bc5e32-7269-46af-952d-ff56f0ed83de",
   "metadata": {
    "id": "47bc5e32-7269-46af-952d-ff56f0ed83de"
   },
   "outputs": [],
   "source": [
    "def df_stats(data):\n",
    "    bold(\" SHAPE \".center(50, \"#\"))\n",
    "    print(\"ROWS: {}\".format(data.shape[0]))\n",
    "    print(\"COLUMNS: {}\".format(data.shape[1]))\n",
    "    bold(\" TYPES \".center(50, \"#\"))\n",
    "    print(data.dtypes)\n",
    "    bold(\" MISSING VALUES \".center(50, \"#\"))\n",
    "    print(data.isnull().sum())\n",
    "    bold(\" DUPLICATED VALUES \".center(50, \"#\"))\n",
    "    print(\"NUMBER OF DUPLICATED VALUES: {}\".format(data.duplicated().sum()))\n",
    "    bold(\" MEMORY USAGE \".center(50, \"#\"))\n",
    "    buf = io.StringIO()\n",
    "    data.info(buf=buf)\n",
    "    info = buf.getvalue().split(\"\\n\")[-2].split(\":\")[1].strip()\n",
    "    print(\"Memory Usage: {}\".format(info))\n",
    "    bold(\" DESCRIBE \".center(50, \"#\"))\n",
    "    print(data.describe().T)"
   ]
  },
  {
   "cell_type": "code",
   "execution_count": null,
   "id": "d586b180-a06f-4c94-b904-ea0bacbdfa73",
   "metadata": {
    "colab": {
     "base_uri": "https://localhost:8080/",
     "height": 1000
    },
    "id": "d586b180-a06f-4c94-b904-ea0bacbdfa73",
    "outputId": "b81cf25c-8ce8-4bb7-c94e-ff1fd73c921d"
   },
   "outputs": [],
   "source": [
    "df_stats(df)"
   ]
  },
  {
   "cell_type": "code",
   "execution_count": null,
   "id": "Q4UF-jkR0UBf",
   "metadata": {
    "colab": {
     "base_uri": "https://localhost:8080/",
     "height": 1000
    },
    "id": "Q4UF-jkR0UBf",
    "outputId": "8ae23b6a-005e-4eb9-d382-e2ff8e180d9c"
   },
   "outputs": [],
   "source": [
    "def plot_correlation_heatmap(df: pd.core.frame.DataFrame, title_name: str='Correlation Map') -> None:\n",
    "    corr = df.corr()\n",
    "    fig, axes = plt.subplots(figsize=(30, 30))\n",
    "    mask = np.zeros_like(corr)\n",
    "    mask[np.triu_indices_from(mask)] = True\n",
    "    sns.heatmap(corr, mask=mask, linewidths=.5, cmap='viridis', annot=True, fmt='.2f')\n",
    "    plt.title(title_name)\n",
    "    plt.savefig('correlation')\n",
    "    plt.show()\n",
    "\n",
    "plot_correlation_heatmap(df, 'Dataset Correlation')"
   ]
  },
  {
   "cell_type": "code",
   "execution_count": null,
   "id": "BE6MjJkx0TeU",
   "metadata": {
    "id": "BE6MjJkx0TeU"
   },
   "outputs": [],
   "source": []
  },
  {
   "cell_type": "markdown",
   "id": "2fcf496a-4e76-48ad-bc28-350b1d40efec",
   "metadata": {
    "id": "2fcf496a-4e76-48ad-bc28-350b1d40efec"
   },
   "source": [
    "# Yıllara Göre Veri Setini Ayıralım"
   ]
  },
  {
   "cell_type": "code",
   "execution_count": null,
   "id": "a3962d30-5b69-453c-a354-c403ebd9050d",
   "metadata": {
    "id": "a3962d30-5b69-453c-a354-c403ebd9050d"
   },
   "outputs": [],
   "source": [
    "def seperate_by_year(year):\n",
    "    temp_df = df[df['Tarih'] <= year].reset_index(drop=True)\n",
    "    if not os.path.exists(f'/content/drive/MyDrive/proje/data/seperated/{year}'):\n",
    "        os.makedirs(f'/content/drive/MyDrive/proje/data/seperated/{year}')\n",
    "    temp_df.to_csv(f'/content/drive/MyDrive/proje/data/seperated/{year}/{year}.csv')"
   ]
  },
  {
   "cell_type": "code",
   "execution_count": null,
   "id": "5396ee60-a72a-47a1-8992-7121c91e632f",
   "metadata": {
    "colab": {
     "base_uri": "https://localhost:8080/"
    },
    "id": "5396ee60-a72a-47a1-8992-7121c91e632f",
    "outputId": "747c77e7-17dc-44ae-dd31-c336db879c39"
   },
   "outputs": [],
   "source": [
    "for i in range(1997, 2024):\n",
    "    seperate_by_year(i)\n",
    "\n",
    "print('Yıllara göre ayrıldı.')"
   ]
  },
  {
   "cell_type": "markdown",
   "id": "68ebddb1-d8f3-4c02-99a1-6473cfd72489",
   "metadata": {
    "id": "68ebddb1-d8f3-4c02-99a1-6473cfd72489"
   },
   "source": [
    "# Boş Değerleri Dolduralım"
   ]
  },
  {
   "cell_type": "code",
   "execution_count": null,
   "id": "60784f22-bc3d-448d-b628-46b3a32fdda2",
   "metadata": {
    "id": "60784f22-bc3d-448d-b628-46b3a32fdda2"
   },
   "outputs": [],
   "source": [
    "def fill_na_values(year):\n",
    "    temp_df = pd.read_csv(f'/content/drive/MyDrive/proje/data/seperated/{year}/{year}.csv', index_col=0, na_values='?')\n",
    "    temp_df['duration'].fillna(method='bfill', inplace=True)\n",
    "    temp_df['Publication Day'].fillna(method='bfill', inplace=True)\n",
    "    temp_df.dropna(inplace=True)\n",
    "    temp_df = temp_df.reset_index(drop=True)\n",
    "\n",
    "    temp_df.to_csv(f'/content/drive/MyDrive/proje/data/seperated/{year}/{year}_filled.csv')"
   ]
  },
  {
   "cell_type": "code",
   "execution_count": null,
   "id": "05946f0a-b079-4e7c-918d-4f3e149ad6f4",
   "metadata": {
    "colab": {
     "base_uri": "https://localhost:8080/"
    },
    "id": "05946f0a-b079-4e7c-918d-4f3e149ad6f4",
    "outputId": "fb48cd88-12a1-46b7-d0c8-ae39f6424ebf"
   },
   "outputs": [],
   "source": [
    "for i in range(1997, 2024):\n",
    "    fill_na_values(i)\n",
    "\n",
    "print('Boş sütunlar dolduruldu.')"
   ]
  },
  {
   "cell_type": "markdown",
   "id": "425a25de-950a-4d3f-8c9e-19cd041e35b4",
   "metadata": {
    "id": "425a25de-950a-4d3f-8c9e-19cd041e35b4"
   },
   "source": [
    "# Özellik Ölçekleme ve Temel Model Eğitimi"
   ]
  },
  {
   "cell_type": "code",
   "execution_count": null,
   "id": "efc27746-2705-4aca-97b6-4d3d43eedcf4",
   "metadata": {
    "id": "efc27746-2705-4aca-97b6-4d3d43eedcf4"
   },
   "outputs": [],
   "source": [
    "def plot_results(df, title, year):\n",
    "    plt.figure(figsize=(10, 30))\n",
    "\n",
    "    plt.subplot(711)\n",
    "    ax = sns.barplot(data=df.sort_values(by=\"Train Time\", ascending=False), y=\"Model Name\", x=\"Train Time\", palette='viridis')\n",
    "    for container in ax.containers:\n",
    "        ax.bar_label(container)\n",
    "    plt.title(\"Model / Train Time\")\n",
    "    plt.xlabel(\"\")\n",
    "\n",
    "    plt.subplot(712)\n",
    "    ax = sns.barplot(data=df.sort_values(by=\"Test Time\", ascending=False), y=\"Model Name\", x=\"Test Time\", palette='viridis')\n",
    "    for container in ax.containers:\n",
    "        ax.bar_label(container)\n",
    "    plt.title(\"Model / Test Time\")\n",
    "    plt.xlabel(\"\")\n",
    "\n",
    "    plt.subplot(713)\n",
    "    ax = sns.barplot(data=df.sort_values(by=\"Train Accuracy\", ascending=True), y=\"Model Name\", x=\"Train Accuracy\", palette='viridis')\n",
    "    for container in ax.containers:\n",
    "        ax.bar_label(container)\n",
    "    plt.title(\"Model / Train Accuracy\")\n",
    "    plt.xlabel(\"\")\n",
    "\n",
    "    plt.subplot(714)\n",
    "    ax = sns.barplot(data=df.sort_values(by=\"Test Accuracy\", ascending=True), y=\"Model Name\", x=\"Test Accuracy\", palette='viridis')\n",
    "    for container in ax.containers:\n",
    "        ax.bar_label(container)\n",
    "    plt.title(\"Model / Test Accuracy\")\n",
    "    plt.xlabel(\"\")\n",
    "\n",
    "    plt.subplot(715)\n",
    "    ax = sns.barplot(data=df.sort_values(by=\"F1\", ascending=True), y=\"Model Name\", x=\"F1\", palette='viridis')\n",
    "    for container in ax.containers:\n",
    "        ax.bar_label(container)\n",
    "    plt.title(\"Model / F1\")\n",
    "    plt.xlabel(\"\")\n",
    "\n",
    "    plt.subplot(716)\n",
    "    ax = sns.barplot(data=df.sort_values(by=\"Precision\", ascending=True), y=\"Model Name\", x=\"Precision\", palette='viridis')\n",
    "    for container in ax.containers:\n",
    "        ax.bar_label(container)\n",
    "    plt.title(\"Model / Precision\")\n",
    "    plt.xlabel(\"\")\n",
    "\n",
    "    plt.subplot(717)\n",
    "    ax = sns.barplot(data=df.sort_values(by=\"Recall\", ascending=True), y=\"Model Name\", x=\"Recall\", palette='viridis')\n",
    "    for container in ax.containers:\n",
    "        ax.bar_label(container)\n",
    "    plt.title(\"Model / Recall\")\n",
    "    plt.xlabel(\"\")\n",
    "\n",
    "    save_fig(title, year)\n",
    "    plt.show()"
   ]
  },
  {
   "cell_type": "code",
   "execution_count": null,
   "id": "aba3b8c5-c23d-4a83-bc94-e58c101dd8bd",
   "metadata": {
    "id": "aba3b8c5-c23d-4a83-bc94-e58c101dd8bd"
   },
   "outputs": [],
   "source": [
    "def load_models():\n",
    "    return [RandomForestClassifier(), AdaBoostClassifier(), GradientBoostingClassifier(), DecisionTreeClassifier(), ExtraTreesClassifier(),\n",
    "            LogisticRegression(), SGDClassifier(), XGBClassifier(), LGBMClassifier(verbose=-100), CatBoostClassifier(verbose=0), MLPClassifier(),\n",
    "            GaussianNB(), SVC(), KNeighborsClassifier()]"
   ]
  },
  {
   "cell_type": "markdown",
   "id": "d990c0d2-b16d-45b9-8568-c2de8893808e",
   "metadata": {
    "id": "d990c0d2-b16d-45b9-8568-c2de8893808e"
   },
   "source": [
    "# Hiperparametreler"
   ]
  },
  {
   "cell_type": "code",
   "execution_count": null,
   "id": "7b71f85b-ddf2-42b8-a893-06bd95e3f5fa",
   "metadata": {
    "id": "7b71f85b-ddf2-42b8-a893-06bd95e3f5fa"
   },
   "outputs": [],
   "source": [
    "def objective_lgbm(trial, X_train, X_test, y_train, y_test):\n",
    "    param = {\n",
    "        'objective': 'multiclass',\n",
    "        'num_class': 3,\n",
    "        'metric': 'multi_logloss',\n",
    "        'verbosity': -1,\n",
    "        'boosting_type': 'gbdt',\n",
    "        'num_leaves': trial.suggest_int('num_leaves', 2, 256),\n",
    "        'learning_rate': trial.suggest_loguniform('learning_rate', 0.005, 0.5),\n",
    "        'max_depth': trial.suggest_int('max_depth', 3, 15),\n",
    "        'min_child_samples': trial.suggest_int('min_child_samples', 1, 100),\n",
    "        'subsample': trial.suggest_uniform('subsample', 0.6, 1.0),\n",
    "        'colsample_bytree': trial.suggest_uniform('colsample_bytree', 0.6, 1.0),\n",
    "        'reg_alpha': trial.suggest_loguniform('reg_alpha', 1e-5, 10.0),\n",
    "        'reg_lambda': trial.suggest_loguniform('reg_lambda', 1e-5, 10.0),\n",
    "    }\n",
    "\n",
    "    model = LGBMClassifier(**param)\n",
    "    model.fit(X_train, y_train)\n",
    "    y_pred = model.predict(X_test)\n",
    "    accuracy = accuracy_score(y_test, y_pred)\n",
    "    return accuracy"
   ]
  },
  {
   "cell_type": "code",
   "execution_count": null,
   "id": "07c479a7-6044-4c36-b25e-12833a1cb9a4",
   "metadata": {
    "id": "07c479a7-6044-4c36-b25e-12833a1cb9a4"
   },
   "outputs": [],
   "source": [
    "def objective_xgb(trial, X_train, X_test, y_train, y_test):\n",
    "    param = {\n",
    "        'objective': 'multi:softmax',\n",
    "        'num_class': 3,\n",
    "        'eval_metric': 'mlogloss',\n",
    "        'verbosity': 0,\n",
    "        'booster': 'gbtree',\n",
    "        'max_depth': trial.suggest_int('max_depth', 3, 15),\n",
    "        'learning_rate': trial.suggest_loguniform('learning_rate', 0.005, 0.5),\n",
    "        'subsample': trial.suggest_uniform('subsample', 0.6, 1.0),\n",
    "        'colsample_bytree': trial.suggest_uniform('colsample_bytree', 0.6, 1.0),\n",
    "        'reg_alpha': trial.suggest_loguniform('reg_alpha', 1e-5, 10.0),\n",
    "        'reg_lambda': trial.suggest_loguniform('reg_lambda', 1e-5, 10.0),\n",
    "        'min_child_weight': trial.suggest_loguniform('min_child_weight', 1e-5, 10.0),\n",
    "    }\n",
    "\n",
    "    model = XGBClassifier(**param)\n",
    "    model.fit(X_train, y_train)\n",
    "    y_pred = model.predict(X_test)\n",
    "    accuracy = accuracy_score(y_test, y_pred)\n",
    "    return accuracy"
   ]
  },
  {
   "cell_type": "code",
   "execution_count": null,
   "id": "e455def7-dcd6-4bf6-88d5-a59110528caf",
   "metadata": {
    "id": "e455def7-dcd6-4bf6-88d5-a59110528caf"
   },
   "outputs": [],
   "source": [
    "def objective_rf(trial, X_train, X_test, y_train, y_test):\n",
    "    param = {\n",
    "        'n_estimators': trial.suggest_int('n_estimators', 50, 200),\n",
    "        'max_depth': trial.suggest_int('max_depth', 3, 15),\n",
    "        'min_samples_split': trial.suggest_int('min_samples_split', 2, 10),\n",
    "        'min_samples_leaf': trial.suggest_int('min_samples_leaf', 1, 5),\n",
    "        'max_features': trial.suggest_uniform('max_features', 0.6, 1.0)\n",
    "    }\n",
    "\n",
    "    model = RandomForestClassifier(**param)\n",
    "    model.fit(X_train, y_train)\n",
    "    y_pred = model.predict(X_test)\n",
    "    accuracy = accuracy_score(y_test, y_pred)\n",
    "    return accuracy"
   ]
  },
  {
   "cell_type": "code",
   "execution_count": null,
   "id": "fd55c867-39d2-46be-96c3-c0c752253c83",
   "metadata": {
    "id": "fd55c867-39d2-46be-96c3-c0c752253c83"
   },
   "outputs": [],
   "source": [
    "def objective_ada(trial, X_train, X_test, y_train, y_test):\n",
    "    param = {\n",
    "        'n_estimators': trial.suggest_int('n_estimators', 50, 200),\n",
    "        'learning_rate': trial.suggest_loguniform('learning_rate', 0.01, 1.0),\n",
    "    }\n",
    "\n",
    "    model = AdaBoostClassifier(**param)\n",
    "    model.fit(X_train, y_train)\n",
    "    y_pred = model.predict(X_test)\n",
    "    accuracy = accuracy_score(y_test, y_pred)\n",
    "    return accuracy"
   ]
  },
  {
   "cell_type": "code",
   "execution_count": null,
   "id": "3193a0fe-5788-4a6e-a9ff-b815a5f95c48",
   "metadata": {
    "id": "3193a0fe-5788-4a6e-a9ff-b815a5f95c48"
   },
   "outputs": [],
   "source": [
    "def objective_gb(trial, X_train, X_test, y_train, y_test):\n",
    "    param = {\n",
    "        'n_estimators': trial.suggest_int('n_estimators', 50, 200),\n",
    "        'learning_rate': trial.suggest_loguniform('learning_rate', 0.01, 1.0),\n",
    "        'max_depth': trial.suggest_int('max_depth', 3, 10),\n",
    "        'min_samples_split': trial.suggest_int('min_samples_split', 2, 10),\n",
    "        'min_samples_leaf': trial.suggest_int('min_samples_leaf', 1, 5),\n",
    "        'subsample': trial.suggest_uniform('subsample', 0.6, 1.0),\n",
    "    }\n",
    "\n",
    "    model = GradientBoostingClassifier(**param)\n",
    "    model.fit(X_train, y_train)\n",
    "    y_pred = model.predict(X_test)\n",
    "    accuracy = accuracy_score(y_test, y_pred)\n",
    "    return accuracy"
   ]
  },
  {
   "cell_type": "code",
   "execution_count": null,
   "id": "90bee785-d051-4a70-b9a8-97d525e44c34",
   "metadata": {
    "id": "90bee785-d051-4a70-b9a8-97d525e44c34"
   },
   "outputs": [],
   "source": [
    "def objective_dt(trial, X_train, X_test, y_train, y_test):\n",
    "    param = {\n",
    "        'max_depth': trial.suggest_int('max_depth', 3, 15),\n",
    "        'min_samples_split': trial.suggest_int('min_samples_split', 2, 10),\n",
    "        'min_samples_leaf': trial.suggest_int('min_samples_leaf', 1, 5),\n",
    "        'max_features': trial.suggest_uniform('max_features', 0.6, 1.0)\n",
    "    }\n",
    "\n",
    "    model = DecisionTreeClassifier(**param)\n",
    "    model.fit(X_train, y_train)\n",
    "    y_pred = model.predict(X_test)\n",
    "    accuracy = accuracy_score(y_test, y_pred)\n",
    "    return accuracy"
   ]
  },
  {
   "cell_type": "code",
   "execution_count": null,
   "id": "dace94f7-579a-4146-9a59-3c69b74028eb",
   "metadata": {
    "id": "dace94f7-579a-4146-9a59-3c69b74028eb"
   },
   "outputs": [],
   "source": [
    "def objective_et(trial, X_train, X_test, y_train, y_test):\n",
    "    param = {\n",
    "        'n_estimators': trial.suggest_int('n_estimators', 50, 200),\n",
    "        'max_depth': trial.suggest_int('max_depth', 3, 15),\n",
    "        'min_samples_split': trial.suggest_int('min_samples_split', 2, 10),\n",
    "        'min_samples_leaf': trial.suggest_int('min_samples_leaf', 1, 5),\n",
    "        'max_features': trial.suggest_uniform('max_features', 0.6, 1.0)\n",
    "    }\n",
    "\n",
    "    model = ExtraTreesClassifier(**param)\n",
    "    model.fit(X_train, y_train)\n",
    "    y_pred = model.predict(X_test)\n",
    "    accuracy = accuracy_score(y_test, y_pred)\n",
    "    return accuracy"
   ]
  },
  {
   "cell_type": "code",
   "execution_count": null,
   "id": "4e7c6db4-ee41-46f3-9d5e-45c92097cb4f",
   "metadata": {
    "id": "4e7c6db4-ee41-46f3-9d5e-45c92097cb4f"
   },
   "outputs": [],
   "source": [
    "def objective_sgd(trial, X_train, X_test, y_train, y_test):\n",
    "    param = {\n",
    "        'alpha': trial.suggest_loguniform('alpha', 1e-5, 1e-1),\n",
    "        'loss': trial.suggest_categorical('loss', ['hinge', 'log_loss', 'modified_huber', 'squared_hinge']),\n",
    "        'penalty': trial.suggest_categorical('penalty', ['l1', 'l2', 'elasticnet'])\n",
    "    }\n",
    "\n",
    "    model = SGDClassifier(**param)\n",
    "    model.fit(X_train, y_train)\n",
    "    y_pred = model.predict(X_test)\n",
    "    accuracy = accuracy_score(y_test, y_pred)\n",
    "    return accuracy"
   ]
  },
  {
   "cell_type": "code",
   "execution_count": null,
   "id": "fe9fc52d-f6d4-4357-9af9-7ac31ab63b18",
   "metadata": {
    "id": "fe9fc52d-f6d4-4357-9af9-7ac31ab63b18"
   },
   "outputs": [],
   "source": [
    "def objective_mlp(trial, X_train, X_test, y_train, y_test):\n",
    "    param = {\n",
    "        'activation': trial.suggest_categorical('activation', ['identity', 'logistic', 'tanh', 'relu']),\n",
    "        'solver': trial.suggest_categorical('solver', ['lbfgs', 'sgd', 'adam']),\n",
    "        'alpha': trial.suggest_loguniform('alpha', 1e-5, 1e-1),\n",
    "    }\n",
    "\n",
    "    model = MLPClassifier(**param)\n",
    "    model.fit(X_train, y_train)\n",
    "    y_pred = model.predict(X_test)\n",
    "    accuracy = accuracy_score(y_test, y_pred)\n",
    "    return accuracy"
   ]
  },
  {
   "cell_type": "code",
   "execution_count": null,
   "id": "M5OrdT5aLx8Y",
   "metadata": {
    "id": "M5OrdT5aLx8Y"
   },
   "outputs": [],
   "source": [
    "def objective_svc(trial, X_train, X_test, y_train, y_test):\n",
    "    param = {\n",
    "        'kernel': trial.suggest_categorical('kernel', ['rbf']),\n",
    "        'C': trial.suggest_loguniform('C', 1e-5, 100),\n",
    "        'gamma': trial.suggest_loguniform('gamma', 1e-5, 100),\n",
    "    }\n",
    "\n",
    "    model = SVC(**param)\n",
    "    model.fit(X_train, y_train)\n",
    "    y_pred = model.predict(X_test)\n",
    "    accuracy = accuracy_score(y_test, y_pred)\n",
    "    return accuracy"
   ]
  },
  {
   "cell_type": "code",
   "execution_count": null,
   "id": "LEt7WJzhLxzR",
   "metadata": {
    "id": "LEt7WJzhLxzR"
   },
   "outputs": [],
   "source": [
    "def objective_knn(trial, X_train, X_test, y_train, y_test):\n",
    "    param = {\n",
    "        'n_neighbors': trial.suggest_int('n_neighbors', 1, 30),\n",
    "        'metric': trial.suggest_categorical('metric', ['euclidean', 'manhattan', 'chebyshev']),\n",
    "        'weights': trial.suggest_categorical('weights', ['uniform', 'distance']),\n",
    "    }\n",
    "    model = KNeighborsClassifier(**param)\n",
    "    model.fit(X_train, y_train)\n",
    "    y_pred = model.predict(X_test)\n",
    "    accuracy = accuracy_score(y_test, y_pred)\n",
    "    return accuracy"
   ]
  },
  {
   "cell_type": "code",
   "execution_count": null,
   "id": "xlHVvAPTLxuZ",
   "metadata": {
    "id": "xlHVvAPTLxuZ"
   },
   "outputs": [],
   "source": []
  },
  {
   "cell_type": "markdown",
   "id": "dc132c34-33c9-481b-b7da-5496a735e552",
   "metadata": {
    "id": "dc132c34-33c9-481b-b7da-5496a735e552"
   },
   "source": [
    "# Model Eğitme"
   ]
  },
  {
   "cell_type": "code",
   "execution_count": null,
   "id": "14bf4a7f-e1b3-41c4-8a17-ab37a264ad87",
   "metadata": {
    "id": "14bf4a7f-e1b3-41c4-8a17-ab37a264ad87"
   },
   "outputs": [],
   "source": [
    "def train_model(year, i, model, scores_df, X_train, X_test, y_train, y_test, class_names, sampler_name):\n",
    "    if not os.path.exists(f'/content/drive/MyDrive/proje/images/{year}'):\n",
    "        os.makedirs(f'/content/drive/MyDrive/proje/images/{year}')\n",
    "\n",
    "    best_k = 10\n",
    "    best_score = 0\n",
    "\n",
    "    for k in range(10, X_train.shape[1] + 1):\n",
    "        selector = SelectKBest(score_func=f_classif, k=k)\n",
    "        X_train_selected = selector.fit_transform(X_train, y_train)\n",
    "        X_test_selected = selector.transform(X_test)\n",
    "\n",
    "        selected_model = clone(model)\n",
    "\n",
    "        selected_model.fit(X_train_selected, y_train)\n",
    "        y_pred = selected_model.predict(X_test_selected)\n",
    "        accuracy = accuracy_score(y_test, y_pred)\n",
    "\n",
    "        if accuracy > best_score:\n",
    "            best_score = accuracy\n",
    "            best_k = k\n",
    "\n",
    "    selector = SelectKBest(score_func=f_classif, k=best_k)\n",
    "    X_train = selector.fit_transform(X_train, y_train)\n",
    "    X_test = selector.transform(X_test)\n",
    "    selected_features = selector.get_feature_names_out()\n",
    "\n",
    "    model_name = str(model.__class__).split(\".\")[-1].replace(\"'>\", \"\").replace(\"Classifier\", \"\")\n",
    "\n",
    "    study = optuna.create_study(direction='maximize')\n",
    "\n",
    "    if model_name == \"LGBM\":\n",
    "        study.optimize(lambda trial: objective_lgbm(trial, X_train, X_test, y_train, y_test), n_trials=25)\n",
    "        best_params = study.best_params\n",
    "    elif model_name == \"AdaBoost\":\n",
    "        study.optimize(lambda trial: objective_ada(trial, X_train, X_test, y_train, y_test), n_trials=25)\n",
    "        best_params = study.best_params\n",
    "    elif model_name == \"DecisionTree\":\n",
    "        study.optimize(lambda trial: objective_dt(trial, X_train, X_test, y_train, y_test), n_trials=25)\n",
    "        best_params = study.best_params\n",
    "    elif model_name == \"ExtraTree\":\n",
    "        study.optimize(lambda trial: objective_et(trial, X_train, X_test, y_train, y_test), n_trials=25)\n",
    "        best_params = study.best_params\n",
    "    elif model_name == \"GradientBoosting\":\n",
    "        study.optimize(lambda trial: objective_gb(trial, X_train, X_test, y_train, y_test), n_trials=25)\n",
    "        best_params = study.best_params\n",
    "    elif model_name == \"MLP\":\n",
    "        study.optimize(lambda trial: objective_mlp(trial, X_train, X_test, y_train, y_test), n_trials=25)\n",
    "        best_params = study.best_params\n",
    "    elif model_name == \"RandomForest\":\n",
    "        study.optimize(lambda trial: objective_rf(trial, X_train, X_test, y_train, y_test), n_trials=25)\n",
    "        best_params = study.best_params\n",
    "    elif model_name == \"SGD\":\n",
    "        study.optimize(lambda trial: objective_sgd(trial, X_train, X_test, y_train, y_test), n_trials=25)\n",
    "        best_params = study.best_params\n",
    "    elif model_name == \"XGB\":\n",
    "        study.optimize(lambda trial: objective_xgb(trial, X_train, X_test, y_train, y_test), n_trials=25)\n",
    "        best_params = study.best_params\n",
    "    elif model_name == \"SVC\":\n",
    "        study.optimize(lambda trial: objective_svc(trial, X_train, X_test, y_train, y_test), n_trials=5)\n",
    "        best_params = study.best_params\n",
    "    elif model_name == \"KNeighbors\":\n",
    "        study.optimize(lambda trial: objective_knn(trial, X_train, X_test, y_train, y_test), n_trials=25)\n",
    "        best_params = study.best_params\n",
    "    else:\n",
    "        best_params = {}\n",
    "\n",
    "    model = model.set_params(**best_params)\n",
    "\n",
    "    best_calibration_method = None\n",
    "    best_brier = 1\n",
    "    calibration_methods = ['sigmoid', 'isotonic']\n",
    "    for calibration in calibration_methods:\n",
    "        model_calibrate = clone(model)\n",
    "        calibrated_classifier = CalibratedClassifierCV(model_calibrate, method=calibration, cv=5)\n",
    "        calibrated_classifier.fit(X_train, y_train)\n",
    "        if hasattr(calibrated_classifier, 'predict_proba'):\n",
    "            prob_pos = calibrated_classifier.predict_proba(X_test)\n",
    "        else:\n",
    "            prob_pos = calibrated_classifier.decision_function(X_test)\n",
    "            prob_pos = (prob_pos - prob_pos.min()) / (prob_pos.max() - prob_pos.min())\n",
    "\n",
    "        y_test_binarized = label_binarize(y_test, classes=np.unique(y_test))\n",
    "        brier_scores = [brier_score_loss(y_test_binarized[:, i], prob_pos[:, i]) for i in range(y_test_binarized.shape[1])]\n",
    "        brier = np.mean(brier_scores)\n",
    "        if brier < best_brier:\n",
    "            best_calibration_method = calibration\n",
    "\n",
    "    model_name = f'{model_name} + {sampler_name} + k={best_k} + {best_calibration_method}'\n",
    "    calibrated_model = CalibratedClassifierCV(model, method=best_calibration_method, cv=5)\n",
    "\n",
    "    start = time.time()\n",
    "    calibrated_model.fit(X_train, y_train)\n",
    "    end = time.time()\n",
    "    train_time = end - start\n",
    "\n",
    "    start = time.time()\n",
    "    y_pred = calibrated_model.predict(X_test)\n",
    "    end = time.time()\n",
    "    test_time = end - start\n",
    "\n",
    "    train_pred = calibrated_model.predict(X_train)\n",
    "    train_acc = accuracy_score(y_train, train_pred)\n",
    "    test_acc = accuracy_score(y_test, y_pred)\n",
    "\n",
    "    f1 = f1_score(y_test, y_pred, average=\"weighted\")\n",
    "    precision = precision_score(y_test, y_pred, average=\"weighted\")\n",
    "    recall = precision_score(y_test, y_pred, average=\"weighted\")\n",
    "\n",
    "    cm = confusion_matrix(y_test, y_pred)\n",
    "    plot_confusion_matrix(conf_mat=cm, show_absolute=True, show_normed=True, colorbar=True, figsize=(8, 8))\n",
    "    plt.title(model_name)\n",
    "    save_fig(f\"{model_name}_confusion_matrix\", year)\n",
    "    plt.show()\n",
    "\n",
    "    bold(f\" {model_name} \".center(75, \"#\"))\n",
    "    print(classification_report(y_test, y_pred))\n",
    "    print()\n",
    "\n",
    "    with open(f'/content/drive/MyDrive/proje/models/{year}/{model_name}.pkl', 'wb') as file:\n",
    "        pickle.dump(calibrated_model, file)\n",
    "\n",
    "    scores_df.loc[len(scores_df)] = [model_name, selected_features, best_params, train_time, test_time, train_acc, test_acc, f1, precision, recall]"
   ]
  },
  {
   "cell_type": "code",
   "execution_count": null,
   "id": "5a4564a5-dee0-481e-a3ee-f2b4d25c7abd",
   "metadata": {
    "id": "5a4564a5-dee0-481e-a3ee-f2b4d25c7abd"
   },
   "outputs": [],
   "source": [
    "def train_model_per_year(year):\n",
    "    temp_df = pd.read_csv(f'/content/drive/MyDrive/proje/data/seperated/{year}/{year}_filled.csv', index_col=0)\n",
    "    X = temp_df.drop(['Dizi Adı', 'state'], axis=1)\n",
    "    y = temp_df['state']\n",
    "\n",
    "    if not os.path.exists(f'/content/drive/MyDrive/proje/models/{year}'):\n",
    "        os.makedirs(f'/content/drive/MyDrive/proje/models/{year}')\n",
    "\n",
    "    target = 'state'\n",
    "    numerical_variables = [col for col in X.columns if pd.api.types.is_numeric_dtype(X[col]) and col != target]\n",
    "    categorical_variables = [col for col in X.columns if col not in numerical_variables or X[col].dtype == \"O\" and col != target]\n",
    "\n",
    "    scores_df = pd.DataFrame(columns=[\"Model Name\", \"Selected Features\", \"Parameters\", \"Train Time\", \"Test Time\", \"Train Accuracy\", \"Test Accuracy\", \"F1\", \"Precision\", \"Recall\"])\n",
    "    samplers = [#SMOTE(random_state=42),\n",
    "                RandomOverSampler(random_state=42),\n",
    "                #ADASYN(random_state=42),\n",
    "                #BorderlineSMOTE(k_neighbors=4, random_state=42)\n",
    "               ]\n",
    "\n",
    "    class_index = {}\n",
    "    for c in np.unique(y):\n",
    "        class_index[c] = np.where(y == c)[0]\n",
    "\n",
    "    min_class_len = min(len(ind) for ind in class_index.values())\n",
    "    test_index = []\n",
    "    for i in class_index.values():\n",
    "        test_index.extend(np.random.choice(i, size=min_class_len // 2, replace=False))\n",
    "\n",
    "    train_index = np.setdiff1d(X.index.values, test_index)\n",
    "    train_index = list(train_index)\n",
    "\n",
    "    X_train, X_test = X.iloc[train_index], X.iloc[test_index]\n",
    "    y_train, y_test = y[train_index], y[test_index]\n",
    "\n",
    "    day_encoder = OrdinalEncoder(handle_unknown='use_encoded_value', unknown_value=-1)\n",
    "    X_train['Publication Day'] = day_encoder.fit_transform(X_train['Publication Day'].values.reshape(-1, 1))[:, 0]\n",
    "    X_test['Publication Day'] = day_encoder.transform(X_test['Publication Day'].values.reshape(-1, 1))[:, 0]\n",
    "    pickle.dump(day_encoder, open(f'/content/drive/MyDrive/proje/models/{year}/day_encoder.pkl', 'wb'))\n",
    "\n",
    "    #date_encoder = OrdinalEncoder(handle_unknown='use_encoded_value', unknown_value=-1)\n",
    "    #X_train['Publication Day'] = date_encoder.fit_transform(X_train['Publication Day'].values.reshape(-1, 1))[:, 0]\n",
    "    #X_test['Publication Day'] = date_encoder.fit_transform(X_test['Publication Day'].values.reshape(-1, 1))[:, 0]\n",
    "    #pickle.dump(date_encoder, open(f'./models/{year}/date_encoder.pkl', 'wb'))\n",
    "\n",
    "    rs = RobustScaler()\n",
    "    X_train[numerical_variables] = rs.fit_transform(X_train[numerical_variables])\n",
    "    X_test[numerical_variables] = rs.transform(X_test[numerical_variables])\n",
    "    pickle.dump(rs, open(f'/content/drive/MyDrive/proje/models/{year}/rs.pkl', 'wb'))\n",
    "\n",
    "    le = LabelEncoder()\n",
    "    y_train = le.fit_transform(y_train)\n",
    "    y_test = le.transform(y_test)\n",
    "    pickle.dump(le, open(f'/content/drive/MyDrive/proje/models/{year}/le.pkl', 'wb'))\n",
    "\n",
    "    class_names = le.classes_\n",
    "\n",
    "    for sampler in samplers:\n",
    "        sampler_name = str(sampler.__class__).split(\".\")[-1].replace(\"'>\", \"\")\n",
    "        X_train_resampled, y_train_resampled = sampler.fit_resample(X_train, y_train)\n",
    "\n",
    "        print(Counter(y_train), '=', len(y_train))\n",
    "        print(Counter(y_test), '=', len(y_test))\n",
    "\n",
    "        models = load_models()\n",
    "        for i, model in enumerate(models):\n",
    "            train_model(year, i, model, scores_df, X_train_resampled, X_test, y_train_resampled, y_test, class_names, sampler_name)\n",
    "\n",
    "    scores_df.to_csv(f'/content/drive/MyDrive/proje/models/{year}/scores.csv')\n",
    "    plot_results(scores_df, f'{year} Base Models Results', year)"
   ]
  },
  {
   "cell_type": "markdown",
   "id": "01981f0a-cc2b-4992-8925-1c329721b7f8",
   "metadata": {
    "id": "01981f0a-cc2b-4992-8925-1c329721b7f8"
   },
   "source": [
    "# Temel Modeller"
   ]
  },
  {
   "cell_type": "code",
   "execution_count": null,
   "id": "6c914eb5-03f6-4dcf-9c76-2193dcf9b455",
   "metadata": {
    "id": "6c914eb5-03f6-4dcf-9c76-2193dcf9b455",
    "scrolled": true
   },
   "outputs": [],
   "source": [
    "train_model_per_year(1997)"
   ]
  },
  {
   "cell_type": "code",
   "execution_count": null,
   "id": "c1d22000-db39-4248-9bf1-f4489cbb28c3",
   "metadata": {
    "colab": {
     "base_uri": "https://localhost:8080/",
     "height": 1000
    },
    "id": "c1d22000-db39-4248-9bf1-f4489cbb28c3",
    "outputId": "a3173fc6-c7bb-4426-8b26-618b93ee8644",
    "scrolled": true
   },
   "outputs": [],
   "source": [
    "train_model_per_year(1998)"
   ]
  },
  {
   "cell_type": "code",
   "execution_count": null,
   "id": "c9af4772-f4ee-4d63-a20d-226261a30326",
   "metadata": {
    "colab": {
     "base_uri": "https://localhost:8080/",
     "height": 1000
    },
    "id": "c9af4772-f4ee-4d63-a20d-226261a30326",
    "outputId": "16a0748c-e45a-4c49-8809-615d48aa5ecf",
    "scrolled": true
   },
   "outputs": [],
   "source": [
    "train_model_per_year(1999)"
   ]
  },
  {
   "cell_type": "code",
   "execution_count": null,
   "id": "db08f371-d1da-43f8-b10b-f9e00c9031f4",
   "metadata": {
    "colab": {
     "base_uri": "https://localhost:8080/",
     "height": 1000
    },
    "id": "db08f371-d1da-43f8-b10b-f9e00c9031f4",
    "outputId": "c0d6ce15-f565-408d-983f-3fe333cfd020",
    "scrolled": true
   },
   "outputs": [],
   "source": [
    "train_model_per_year(2000)"
   ]
  },
  {
   "cell_type": "code",
   "execution_count": null,
   "id": "0c1a3e11-23ef-40d0-a300-7c8a393a76eb",
   "metadata": {
    "colab": {
     "base_uri": "https://localhost:8080/",
     "height": 1000
    },
    "id": "0c1a3e11-23ef-40d0-a300-7c8a393a76eb",
    "outputId": "1d6ade5f-fde2-4817-f0d4-6e0a675c966d",
    "scrolled": true
   },
   "outputs": [],
   "source": [
    "train_model_per_year(2001)"
   ]
  },
  {
   "cell_type": "code",
   "execution_count": null,
   "id": "864d47b9-728f-4fd7-9895-e50c64d58bf6",
   "metadata": {
    "colab": {
     "base_uri": "https://localhost:8080/",
     "height": 1000
    },
    "id": "864d47b9-728f-4fd7-9895-e50c64d58bf6",
    "outputId": "a0641fe1-cf1b-4e91-ba0c-558210974e6d",
    "scrolled": true
   },
   "outputs": [],
   "source": [
    "train_model_per_year(2002)"
   ]
  },
  {
   "cell_type": "code",
   "execution_count": null,
   "id": "33b4326d-7d13-4816-85ae-202cacb9b1fa",
   "metadata": {
    "colab": {
     "base_uri": "https://localhost:8080/",
     "height": 1000
    },
    "id": "33b4326d-7d13-4816-85ae-202cacb9b1fa",
    "outputId": "04ec2012-967d-45f3-bb6e-9d7346d4ca04",
    "scrolled": true
   },
   "outputs": [],
   "source": [
    "train_model_per_year(2003)"
   ]
  },
  {
   "cell_type": "code",
   "execution_count": null,
   "id": "cf94fe00-dc00-4395-9b9b-c385788fd289",
   "metadata": {
    "colab": {
     "base_uri": "https://localhost:8080/",
     "height": 1000
    },
    "id": "cf94fe00-dc00-4395-9b9b-c385788fd289",
    "outputId": "b157b9fc-c692-40b5-aa2e-ef8b6bed2cbf",
    "scrolled": true
   },
   "outputs": [],
   "source": [
    "train_model_per_year(2004)"
   ]
  },
  {
   "cell_type": "code",
   "execution_count": null,
   "id": "21ac8c40-7095-40a6-9c40-073de1ca7045",
   "metadata": {
    "colab": {
     "base_uri": "https://localhost:8080/",
     "height": 1000
    },
    "id": "21ac8c40-7095-40a6-9c40-073de1ca7045",
    "outputId": "6c0277c9-de6d-4303-a85a-fe892dbf6e08",
    "scrolled": true
   },
   "outputs": [],
   "source": [
    "train_model_per_year(2005)"
   ]
  },
  {
   "cell_type": "code",
   "execution_count": null,
   "id": "d91bf491-8594-486e-be34-8684442699c1",
   "metadata": {
    "colab": {
     "base_uri": "https://localhost:8080/",
     "height": 1000
    },
    "id": "d91bf491-8594-486e-be34-8684442699c1",
    "outputId": "03de3729-b668-4d58-d945-122ed1664568",
    "scrolled": true
   },
   "outputs": [],
   "source": [
    "train_model_per_year(2006)"
   ]
  },
  {
   "cell_type": "code",
   "execution_count": null,
   "id": "cbdfe4cc-f3c8-4e47-833d-393f07b25ea0",
   "metadata": {
    "colab": {
     "base_uri": "https://localhost:8080/",
     "height": 1000
    },
    "id": "cbdfe4cc-f3c8-4e47-833d-393f07b25ea0",
    "outputId": "fb4b67b4-2c50-43b5-a00a-a1a988a99438",
    "scrolled": true
   },
   "outputs": [],
   "source": [
    "train_model_per_year(2007)"
   ]
  },
  {
   "cell_type": "code",
   "execution_count": null,
   "id": "96f78370-a054-49be-8d6e-7d30218a5746",
   "metadata": {
    "colab": {
     "base_uri": "https://localhost:8080/",
     "height": 1000
    },
    "id": "96f78370-a054-49be-8d6e-7d30218a5746",
    "outputId": "0140e1c1-3228-4c50-8fad-c7b7e8ece40f",
    "scrolled": true
   },
   "outputs": [],
   "source": [
    "train_model_per_year(2008)"
   ]
  },
  {
   "cell_type": "code",
   "execution_count": null,
   "id": "c37a7bd4-7d4e-4384-8cab-79c005029269",
   "metadata": {
    "colab": {
     "base_uri": "https://localhost:8080/",
     "height": 1000
    },
    "id": "c37a7bd4-7d4e-4384-8cab-79c005029269",
    "outputId": "06ec9299-0d90-45e6-bc54-48a466845643",
    "scrolled": true
   },
   "outputs": [],
   "source": [
    "train_model_per_year(2009)"
   ]
  },
  {
   "cell_type": "code",
   "execution_count": null,
   "id": "385c3d86-406d-4e84-85f9-bdbedd9acd8e",
   "metadata": {
    "colab": {
     "base_uri": "https://localhost:8080/",
     "height": 1000
    },
    "id": "385c3d86-406d-4e84-85f9-bdbedd9acd8e",
    "outputId": "7f8c1eb3-03b9-451b-a35d-49391a3b795b",
    "scrolled": true
   },
   "outputs": [],
   "source": [
    "train_model_per_year(2010)"
   ]
  },
  {
   "cell_type": "code",
   "execution_count": null,
   "id": "03c16f67-10b7-4c74-9eca-6b88953b53f9",
   "metadata": {
    "colab": {
     "base_uri": "https://localhost:8080/",
     "height": 1000
    },
    "id": "03c16f67-10b7-4c74-9eca-6b88953b53f9",
    "outputId": "2f4af14b-b045-4371-8896-0552db139915",
    "scrolled": true
   },
   "outputs": [],
   "source": [
    "train_model_per_year(2011)"
   ]
  },
  {
   "cell_type": "code",
   "execution_count": null,
   "id": "cf212d31-df97-4480-94df-058a884fb60b",
   "metadata": {
    "colab": {
     "base_uri": "https://localhost:8080/",
     "height": 1000
    },
    "id": "cf212d31-df97-4480-94df-058a884fb60b",
    "outputId": "f5643924-a0e4-4258-a011-3e0abf24148a",
    "scrolled": true
   },
   "outputs": [],
   "source": [
    "train_model_per_year(2012)"
   ]
  },
  {
   "cell_type": "code",
   "execution_count": null,
   "id": "95682d5a-cbff-4fee-9e31-d1dfe24c4bf6",
   "metadata": {
    "colab": {
     "base_uri": "https://localhost:8080/",
     "height": 1000
    },
    "id": "95682d5a-cbff-4fee-9e31-d1dfe24c4bf6",
    "outputId": "81066e08-6a8e-4ff2-b529-2c8aea54dca8",
    "scrolled": true
   },
   "outputs": [],
   "source": [
    "train_model_per_year(2013)"
   ]
  },
  {
   "cell_type": "code",
   "execution_count": null,
   "id": "7b8114b0-76ad-4764-a91c-35fc8ad1bbe8",
   "metadata": {
    "colab": {
     "base_uri": "https://localhost:8080/",
     "height": 1000
    },
    "id": "7b8114b0-76ad-4764-a91c-35fc8ad1bbe8",
    "outputId": "dbdee0d4-e87d-4e75-950b-922afd62086a",
    "scrolled": true
   },
   "outputs": [],
   "source": [
    "train_model_per_year(2014)"
   ]
  },
  {
   "cell_type": "code",
   "execution_count": null,
   "id": "3493e85c-940c-4893-87f3-4e6bc6875fb2",
   "metadata": {
    "colab": {
     "base_uri": "https://localhost:8080/",
     "height": 1000
    },
    "id": "3493e85c-940c-4893-87f3-4e6bc6875fb2",
    "outputId": "b91e4e0e-ea5a-498e-8faf-08837cc440f0",
    "scrolled": true
   },
   "outputs": [],
   "source": [
    "train_model_per_year(2015)"
   ]
  },
  {
   "cell_type": "code",
   "execution_count": null,
   "id": "aa5eca1e-6b1c-4b28-9d73-ab4778a11048",
   "metadata": {
    "colab": {
     "base_uri": "https://localhost:8080/",
     "height": 1000
    },
    "id": "aa5eca1e-6b1c-4b28-9d73-ab4778a11048",
    "outputId": "d0bed7b6-dd33-4d9e-8384-bdb1f352bbc0",
    "scrolled": true
   },
   "outputs": [],
   "source": [
    "train_model_per_year(2016)"
   ]
  },
  {
   "cell_type": "code",
   "execution_count": null,
   "id": "248102a4-f137-490b-9214-f0ce34c61904",
   "metadata": {
    "colab": {
     "base_uri": "https://localhost:8080/",
     "height": 1000
    },
    "id": "248102a4-f137-490b-9214-f0ce34c61904",
    "outputId": "1c412021-aa23-4f2e-9c8e-005b01da7b0a",
    "scrolled": true
   },
   "outputs": [],
   "source": [
    "train_model_per_year(2017)"
   ]
  },
  {
   "cell_type": "code",
   "execution_count": null,
   "id": "3a23dcca-0e28-4415-a32f-a850dd67d2c6",
   "metadata": {
    "colab": {
     "base_uri": "https://localhost:8080/",
     "height": 1000
    },
    "id": "3a23dcca-0e28-4415-a32f-a850dd67d2c6",
    "outputId": "0d94dae0-d5bc-4cfb-d5a4-a79981c33ee8",
    "scrolled": true
   },
   "outputs": [],
   "source": [
    "train_model_per_year(2018)"
   ]
  },
  {
   "cell_type": "code",
   "execution_count": null,
   "id": "eeb3afdd-8115-466e-9a1b-e86662a45be1",
   "metadata": {
    "colab": {
     "base_uri": "https://localhost:8080/",
     "height": 1000
    },
    "id": "eeb3afdd-8115-466e-9a1b-e86662a45be1",
    "outputId": "4a5e5d00-e990-45c9-ac76-ca414c610b07",
    "scrolled": true
   },
   "outputs": [],
   "source": [
    "train_model_per_year(2019)"
   ]
  },
  {
   "cell_type": "code",
   "execution_count": null,
   "id": "5edb45d0-d6b9-4564-ae5b-8c50307fe929",
   "metadata": {
    "colab": {
     "base_uri": "https://localhost:8080/",
     "height": 1000
    },
    "id": "5edb45d0-d6b9-4564-ae5b-8c50307fe929",
    "outputId": "23dac7fe-986b-4ad8-84f7-17c1b485dd9f",
    "scrolled": true
   },
   "outputs": [],
   "source": [
    "train_model_per_year(2020)"
   ]
  },
  {
   "cell_type": "code",
   "execution_count": null,
   "id": "9102641d-43b5-47c6-bbac-9f39facdb5d8",
   "metadata": {
    "colab": {
     "base_uri": "https://localhost:8080/",
     "height": 1000
    },
    "id": "9102641d-43b5-47c6-bbac-9f39facdb5d8",
    "outputId": "e093a713-f832-46fd-da7f-11a152dbd747",
    "scrolled": true
   },
   "outputs": [],
   "source": [
    "train_model_per_year(2021)"
   ]
  },
  {
   "cell_type": "code",
   "execution_count": null,
   "id": "8f595aaa-a6d8-463b-9953-a3f165fb042a",
   "metadata": {
    "colab": {
     "base_uri": "https://localhost:8080/",
     "height": 1000
    },
    "id": "8f595aaa-a6d8-463b-9953-a3f165fb042a",
    "outputId": "570ca0bd-6660-43ab-9fa0-708208e8f30a",
    "scrolled": true
   },
   "outputs": [],
   "source": [
    "train_model_per_year(2022)"
   ]
  },
  {
   "cell_type": "code",
   "execution_count": null,
   "id": "03a27074-5b8b-43e4-a9a4-1a9ba34788a7",
   "metadata": {
    "colab": {
     "base_uri": "https://localhost:8080/",
     "height": 1000
    },
    "id": "03a27074-5b8b-43e4-a9a4-1a9ba34788a7",
    "outputId": "137ce613-98b4-4c9e-d516-f82a69626190",
    "scrolled": true
   },
   "outputs": [],
   "source": [
    "train_model_per_year(2023)"
   ]
  },
  {
   "cell_type": "code",
   "execution_count": null,
   "id": "2305a573-4ea0-4f44-a5f0-8068e470bd38",
   "metadata": {
    "id": "2305a573-4ea0-4f44-a5f0-8068e470bd38"
   },
   "outputs": [],
   "source": [
    "base_scores_df = pd.DataFrame(columns=[\"Year\", \"Model Name\", \"Selected Features\", \"Parameters\", \"Train Time\", \"Test Time\", \"Train Accuracy\", \"Test Accuracy\", \"F1\", \"Precision\", \"Recall\"])\n",
    "for year in range(1997, 2024):\n",
    "    temp_df = pd.read_csv(f'/content/drive/MyDrive/proje/models/{year}/scores.csv', index_col=0)\n",
    "    temp_df[\"Year\"] = year\n",
    "    base_scores_df = pd.concat([base_scores_df, temp_df])"
   ]
  },
  {
   "cell_type": "code",
   "execution_count": null,
   "id": "3efc3a7f-8f86-4d92-a47e-d90cce5cb34e",
   "metadata": {
    "colab": {
     "base_uri": "https://localhost:8080/",
     "height": 1000
    },
    "id": "3efc3a7f-8f86-4d92-a47e-d90cce5cb34e",
    "outputId": "d0f05f6e-46b4-4a16-c37e-10ed377e335f"
   },
   "outputs": [],
   "source": [
    "base_scores_df = base_scores_df.groupby(\"Year\", group_keys=True).apply(lambda x: x).drop('Year', axis=1)\n",
    "base_scores_df"
   ]
  },
  {
   "cell_type": "code",
   "execution_count": null,
   "id": "914e9469-9595-460a-a990-072744872f21",
   "metadata": {
    "id": "914e9469-9595-460a-a990-072744872f21"
   },
   "outputs": [],
   "source": [
    "base_scores_df.to_csv('/content/drive/MyDrive/proje/models/base_models.csv')"
   ]
  },
  {
   "cell_type": "code",
   "execution_count": null,
   "id": "6a32f2c0-c368-48ad-a4db-8d680d77b472",
   "metadata": {
    "id": "6a32f2c0-c368-48ad-a4db-8d680d77b472"
   },
   "outputs": [],
   "source": [
    "best_base_scores_df = pd.DataFrame(columns=[\"Year\", \"Model Name\", \"Selected Features\", \"Parameters\", \"Train Time\", \"Test Time\", \"Train Accuracy\", \"Test Accuracy\", \"F1\", \"Precision\", \"Recall\"])\n",
    "for year in range(1997, 2024):\n",
    "    temp_df = pd.read_csv(f'/content/drive/MyDrive/proje/models/{year}/scores.csv', index_col=0)\n",
    "    temp_df = temp_df[temp_df['Test Accuracy'] == temp_df['Test Accuracy'].max()]\n",
    "    temp_df['Year'] = year\n",
    "    best_base_scores_df = pd.concat([best_base_scores_df, temp_df])"
   ]
  },
  {
   "cell_type": "code",
   "execution_count": null,
   "id": "25e5312e-58f2-4ea5-9b14-297c0b223549",
   "metadata": {
    "colab": {
     "base_uri": "https://localhost:8080/",
     "height": 1000
    },
    "id": "25e5312e-58f2-4ea5-9b14-297c0b223549",
    "outputId": "3a50f5c1-7cf9-4f6c-8b04-368f604d9feb"
   },
   "outputs": [],
   "source": [
    "best_base_scores_df = best_base_scores_df.reset_index(drop=True)\n",
    "best_base_scores_df"
   ]
  },
  {
   "cell_type": "code",
   "execution_count": null,
   "id": "19786c0b-8b5f-42f3-936e-c5964bec8e32",
   "metadata": {
    "id": "19786c0b-8b5f-42f3-936e-c5964bec8e32"
   },
   "outputs": [],
   "source": [
    "best_base_scores_df.to_csv('/content/drive/MyDrive/proje/models/best_base_models.csv')"
   ]
  },
  {
   "cell_type": "code",
   "execution_count": null,
   "id": "HjDN0U0DyjdL",
   "metadata": {
    "colab": {
     "base_uri": "https://localhost:8080/",
     "height": 1000
    },
    "id": "HjDN0U0DyjdL",
    "outputId": "87a7b62d-da8e-4ff5-bd9a-8677f7c2074d"
   },
   "outputs": [],
   "source": [
    "best_df = best_base_scores_df.iloc[[1, 2, 7, 9, 11, 12, 17, 26, 27, 29, 31, 32, 33, 36, 38, 40, 43, 48, 49, 50, 53, 56, 57, 59, 60, 64, 65]].reset_index(drop=True)\n",
    "best_df"
   ]
  },
  {
   "cell_type": "code",
   "execution_count": null,
   "id": "ZtJQtRHyyjbM",
   "metadata": {
    "id": "ZtJQtRHyyjbM"
   },
   "outputs": [],
   "source": [
    "best_df.to_csv('/content/drive/MyDrive/proje/models/best_df.csv')"
   ]
  },
  {
   "cell_type": "code",
   "execution_count": null,
   "id": "-WV830eAyjZD",
   "metadata": {
    "id": "-WV830eAyjZD"
   },
   "outputs": [],
   "source": [
    "def copy_best_models(year):\n",
    "    temp_df = pd.read_csv('/content/drive/MyDrive/proje/models/best_df.csv', index_col=0)\n",
    "\n",
    "    if not os.path.exists(f'/content/drive/MyDrive/proje/best_models/{year}'):\n",
    "        os.makedirs(f'/content/drive/MyDrive/proje/best_models/{year}')\n",
    "\n",
    "    temp_df = temp_df[temp_df['Year'] == year]\n",
    "    name = temp_df['Model Name'].values[0]\n",
    "    model_name = f'/content/drive/MyDrive/proje/models/{year}/{name}.pkl'\n",
    "    model_le = f'/content/drive/MyDrive/proje/models/{year}/le.pkl'\n",
    "    model_ord = f'/content/drive/MyDrive/proje/models/{year}/day_encoder.pkl'\n",
    "    model_rs = f'/content/drive/MyDrive/proje/models/{year}/rs.pkl'\n",
    "    os.system(f\"cp '{model_name}' /content/drive/MyDrive/proje/best_models/{year}\")\n",
    "    os.system(f\"cp '{model_le}' /content/drive/MyDrive/proje/best_models/{year}\")\n",
    "    os.system(f\"cp '{model_ord}' /content/drive/MyDrive/proje/best_models/{year}\")\n",
    "    os.system(f\"cp '{model_rs}' /content/drive/MyDrive/proje/best_models/{year}\")\n",
    "\n",
    "    print(f'{year} yılına ait en iyi model kopyalandı.')"
   ]
  },
  {
   "cell_type": "code",
   "execution_count": null,
   "id": "bXp0TqwSyjSs",
   "metadata": {
    "colab": {
     "base_uri": "https://localhost:8080/"
    },
    "id": "bXp0TqwSyjSs",
    "outputId": "4fd23f49-ce18-492f-9b64-cfc5af64550c"
   },
   "outputs": [],
   "source": [
    "for i in range(1997, 2024):\n",
    "    copy_best_models(i)"
   ]
  },
  {
   "cell_type": "code",
   "execution_count": null,
   "id": "muvRBH1cA268",
   "metadata": {
    "colab": {
     "base_uri": "https://localhost:8080/"
    },
    "id": "muvRBH1cA268",
    "outputId": "5a61231b-231e-4de5-e132-fba0cd29f9e3"
   },
   "outputs": [],
   "source": [
    "import sys\n",
    "print(sys.version)"
   ]
  },
  {
   "cell_type": "code",
   "execution_count": null,
   "id": "aLNmZbjcGD2B",
   "metadata": {
    "id": "aLNmZbjcGD2B"
   },
   "outputs": [],
   "source": []
  }
 ],
 "metadata": {
  "colab": {
   "provenance": []
  },
  "kernelspec": {
   "display_name": "Python 3 (ipykernel)",
   "language": "python",
   "name": "python3"
  },
  "language_info": {
   "codemirror_mode": {
    "name": "ipython",
    "version": 3
   },
   "file_extension": ".py",
   "mimetype": "text/x-python",
   "name": "python",
   "nbconvert_exporter": "python",
   "pygments_lexer": "ipython3",
   "version": "3.10.12"
  }
 },
 "nbformat": 4,
 "nbformat_minor": 5
}
